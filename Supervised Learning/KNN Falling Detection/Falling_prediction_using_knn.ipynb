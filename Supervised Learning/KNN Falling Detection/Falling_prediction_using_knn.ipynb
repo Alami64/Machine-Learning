{
  "nbformat": 4,
  "nbformat_minor": 0,
  "metadata": {
    "colab": {
      "provenance": []
    },
    "kernelspec": {
      "name": "python3",
      "display_name": "Python 3"
    },
    "language_info": {
      "name": "python"
    }
  },
  "cells": [
    {
      "cell_type": "markdown",
      "source": [
        "# **Falling Prediction Using KNN**"
      ],
      "metadata": {
        "id": "FXXmVQSzBIcU"
      }
    },
    {
      "cell_type": "code",
      "execution_count": 1,
      "metadata": {
        "id": "yZJX_hGu6Dt-"
      },
      "outputs": [],
      "source": [
        "# using python knn to do a prediction\n",
        "from math import sqrt\n",
        " "
      ]
    },
    {
      "cell_type": "markdown",
      "source": [
        "## **We first define our functions that we need**"
      ],
      "metadata": {
        "id": "OmRUm0I-9Y1q"
      }
    },
    {
      "cell_type": "code",
      "source": [
        "def euclidean_distance(row1, row2):\n",
        "\tdistance = 0.0\n",
        "\tfor i in range(len(row1)-1):\n",
        "\t\tdistance += (row1[i] - row2[i])**2\n",
        "\treturn sqrt(distance)\n",
        " \n",
        "\n",
        "def get_neighbors(train, test_row, num_neighbors):\n",
        "\tdistances = list()\n",
        "\tfor train_row in train:\n",
        "\t\tdist = euclidean_distance(test_row, train_row)\n",
        "\t\tdistances.append((train_row, dist))\n",
        "\tdistances.sort(key=lambda tup: tup[1])\n",
        "\tneighbors = list()\n",
        "\tfor i in range(num_neighbors):\n",
        "\t\tneighbors.append(distances[i][0])\n",
        "\treturn neighbors\n",
        "\n",
        "def predict_classification(train, test_row, num_neighbors):\n",
        "\tneighbors = get_neighbors(train, test_row, num_neighbors)\n",
        "\toutput_values = [row[-1] for row in neighbors]\n",
        "\tprediction = max(set(output_values), key=output_values.count)\n",
        "\treturn prediction\n"
      ],
      "metadata": {
        "id": "zVGUssnb9dov"
      },
      "execution_count": 7,
      "outputs": []
    },
    {
      "cell_type": "markdown",
      "source": [
        "## **Now we set up our dataset**"
      ],
      "metadata": {
        "id": "FWYRRj1Z9zJo"
      }
    },
    {
      "cell_type": "code",
      "source": [
        "dataset =  [[7,6,5,5,6,7,1],\n",
        "            [1,2,3,2,1,3,0],\n",
        "\t          [2,1,3,3,1,2,0],\n",
        "            [1,1,2,3,2,2,0],\n",
        "        \t  [2,2,3,3,2,1,0],\n",
        "        \t  [6,5,7,5,6,7,1],\n",
        "        \t  [5,6,6,6,5,7,1],\n",
        "        \t  [5,6,7,5,7,6,1],\n",
        "        \t  [7,6,7,6,5,6,1]]\n",
        "\n",
        "#we test our function and get the distances \n",
        "print(\"Euclidean distance between two vectors\")\n",
        "for data in range(1, len(dataset)):\n",
        "  print(euclidean_distance(dataset[0],dataset[data]))"
      ],
      "metadata": {
        "colab": {
          "base_uri": "https://localhost:8080/"
        },
        "id": "dXgKZcXI92S7",
        "outputId": "7eecf04a-067a-4654-e9c2-b26eb9d21ddf"
      },
      "execution_count": 10,
      "outputs": [
        {
          "output_type": "stream",
          "name": "stdout",
          "text": [
            "Euclidean distance between two vectors\n",
            "10.295630140987\n",
            "10.392304845413264\n",
            "10.723805294763608\n",
            "10.04987562112089\n",
            "2.449489742783178\n",
            "2.6457513110645907\n",
            "3.1622776601683795\n",
            "2.6457513110645907\n"
          ]
        }
      ]
    },
    {
      "cell_type": "markdown",
      "source": [
        "# **We get the neighbors**"
      ],
      "metadata": {
        "id": "W0hDBp-q-676"
      }
    },
    {
      "cell_type": "code",
      "source": [
        "print(\"The nearest neighbors are: \")\n",
        "print(get_neighbors(dataset[1:], dataset[0], 3))"
      ],
      "metadata": {
        "colab": {
          "base_uri": "https://localhost:8080/"
        },
        "id": "_H6iyr-3_Duw",
        "outputId": "4ab64684-73f5-472e-f046-974e4d4bbde9"
      },
      "execution_count": 13,
      "outputs": [
        {
          "output_type": "stream",
          "name": "stdout",
          "text": [
            "The nearest neighbors are: \n",
            "[[6, 5, 7, 5, 6, 7, 1], [5, 6, 6, 6, 5, 7, 1], [7, 6, 7, 6, 5, 6, 1]]\n"
          ]
        }
      ]
    },
    {
      "cell_type": "markdown",
      "source": [
        "## **Now we make the prediction using our dataset**"
      ],
      "metadata": {
        "id": "8_4w8j2yCcnX"
      }
    },
    {
      "cell_type": "code",
      "source": [
        "# In our dataset we had the falling prediction as either + or -, we represented that using the binary numbers 1 for + and o for -.\n",
        "# in this dataset we will finally predict our output from the given dataset\n",
        "\n",
        "\n",
        "print(\"Our Dataset is :\")\n",
        "for data in range(1, len(dataset)):\n",
        "  print(dataset[data])\n",
        "print()\n",
        "print(\"We want to make a prediciton for: \")\n",
        "print(dataset[0][:len(dataset[0]) - 1])\n",
        "print()\n",
        "predict = predict_classification(dataset, dataset[0], 3)\n",
        "print(f\"We expected {dataset[0][-1]} and we got {predict}\")"
      ],
      "metadata": {
        "colab": {
          "base_uri": "https://localhost:8080/"
        },
        "id": "gnr4DkBaCjOZ",
        "outputId": "429fd357-3ee7-493d-fcfe-37c72407884d"
      },
      "execution_count": 25,
      "outputs": [
        {
          "output_type": "stream",
          "name": "stdout",
          "text": [
            "Our Dataset is :\n",
            "[1, 2, 3, 2, 1, 3, 0]\n",
            "[2, 1, 3, 3, 1, 2, 0]\n",
            "[1, 1, 2, 3, 2, 2, 0]\n",
            "[2, 2, 3, 3, 2, 1, 0]\n",
            "[6, 5, 7, 5, 6, 7, 1]\n",
            "[5, 6, 6, 6, 5, 7, 1]\n",
            "[5, 6, 7, 5, 7, 6, 1]\n",
            "[7, 6, 7, 6, 5, 6, 1]\n",
            "\n",
            "We want to make a prediciton for: \n",
            "[7, 6, 5, 5, 6, 7]\n",
            "\n",
            "We expected 1 and we got 1\n"
          ]
        }
      ]
    }
  ]
}